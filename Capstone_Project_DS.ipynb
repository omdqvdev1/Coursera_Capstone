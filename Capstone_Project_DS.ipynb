{
    "cells": [
        {
            "cell_type": "markdown", 
            "metadata": {
                "collapsed": true
            }, 
            "source": "# Clustering of Luxembourg"
        }, 
        {
            "cell_type": "markdown", 
            "metadata": {}, 
            "source": "## PROBLEM STATEMENT"
        }, 
        {
            "cell_type": "markdown", 
            "metadata": {}, 
            "source": "    In this work we are going to conduct cluster analysis of Luxembourg. It is a small country in the western Europe, landlocked between Belgium, France and Germany. Its population amounts to 590 000 as of 1- Jan-2017. Despite of the small size, it is quite a developed country and it attracts lot of foreigners, such as tourists, expats and cross-border workers. \n    We will collect information about Luxembourg communities, draw these on the map and conduct cluster analysis based on venues in these communities, in order to classify them such as Oher business/tourist area, or touristic/leisure area, or suburb/dormitory area, etc. Having the clusters reflected on a map, it would be easier for one to understand where to go for a weekend, or for a longer rest, or stay during a business trip. Also, the obtained information could provide a view to quickly understand what area of the country or even a community would represent an interest for a visit/trip/stay/work/live.\n"
        }, 
        {
            "cell_type": "code", 
            "metadata": {}, 
            "outputs": [], 
            "source": "", 
            "execution_count": null
        }
    ], 
    "nbformat": 4, 
    "metadata": {
        "kernelspec": {
            "display_name": "Python 3.5", 
            "name": "python3", 
            "language": "python"
        }, 
        "language_info": {
            "version": "3.5.5", 
            "codemirror_mode": {
                "version": 3, 
                "name": "ipython"
            }, 
            "mimetype": "text/x-python", 
            "nbconvert_exporter": "python", 
            "file_extension": ".py", 
            "name": "python", 
            "pygments_lexer": "ipython3"
        }
    }, 
    "nbformat_minor": 1
}