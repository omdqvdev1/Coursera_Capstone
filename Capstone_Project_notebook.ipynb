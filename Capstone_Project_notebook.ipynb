{
    "nbformat": 4, 
    "nbformat_minor": 1, 
    "cells": [
        {
            "source": "## Applied Data Science Capstone Project", 
            "cell_type": "markdown", 
            "metadata": {
                "collapsed": true
            }
        }, 
        {
            "source": "This notebook will be used for the Capstone project", 
            "cell_type": "markdown", 
            "metadata": {}
        }, 
        {
            "execution_count": 1, 
            "metadata": {}, 
            "outputs": [], 
            "cell_type": "code", 
            "source": "import pandas as pd, numpy as np"
        }, 
        {
            "execution_count": 2, 
            "metadata": {}, 
            "outputs": [
                {
                    "text": "Hello Capstone Project Course!\n", 
                    "name": "stdout", 
                    "output_type": "stream"
                }
            ], 
            "cell_type": "code", 
            "source": "print(\"Hello Capstone Project Course!\")"
        }
    ], 
    "metadata": {
        "language_info": {
            "pygments_lexer": "ipython3", 
            "mimetype": "text/x-python", 
            "name": "python", 
            "version": "3.5.5", 
            "nbconvert_exporter": "python", 
            "file_extension": ".py", 
            "codemirror_mode": {
                "name": "ipython", 
                "version": 3
            }
        }, 
        "kernelspec": {
            "language": "python", 
            "display_name": "Python 3.5", 
            "name": "python3"
        }
    }
}