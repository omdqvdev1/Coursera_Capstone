{
    "nbformat_minor": 1, 
    "metadata": {
        "language_info": {
            "pygments_lexer": "ipython3", 
            "name": "python", 
            "file_extension": ".py", 
            "mimetype": "text/x-python", 
            "codemirror_mode": {
                "name": "ipython", 
                "version": 3
            }, 
            "nbconvert_exporter": "python", 
            "version": "3.5.5"
        }, 
        "kernelspec": {
            "language": "python", 
            "name": "python3", 
            "display_name": "Python 3.5"
        }
    }, 
    "cells": [
        {
            "source": "# Clustering of Toronto neighborhoods", 
            "metadata": {
                "collapsed": true
            }, 
            "cell_type": "markdown"
        }, 
        {
            "execution_count": 1, 
            "source": "import pandas as pd\nimport requests\nimport numpy as np\nfrom bs4 import BeautifulSoup", 
            "metadata": {}, 
            "cell_type": "code", 
            "outputs": []
        }, 
        {
            "source": "#### Load wikipedia page with postal codes of Toronto", 
            "metadata": {}, 
            "cell_type": "markdown"
        }, 
        {
            "execution_count": 2, 
            "source": "wikipedia_link=\"https://en.wikipedia.org/wiki/List_of_postal_codes_of_Canada:_M\"\n\nr = requests.get(wikipedia_link)\npage = r.text", 
            "metadata": {}, 
            "cell_type": "code", 
            "outputs": []
        }, 
        {
            "source": "#### Locate embedded table with postal codes, boroughs and and extract it", 
            "metadata": {}, 
            "cell_type": "markdown"
        }, 
        {
            "execution_count": 3, 
            "source": "pos1=page.find('<table class=\"wikitable sortable\">')\npos2=page.find(\"</table>\", pos1)\ntable_text = page[pos1:pos2+8]", 
            "metadata": {}, 
            "cell_type": "code", 
            "outputs": []
        }, 
        {
            "execution_count": 4, 
            "source": "table_text=table_text.replace(\"\\n\",\"\")\nsoup = BeautifulSoup(table_text,\"lxml\")", 
            "metadata": {}, 
            "cell_type": "code", 
            "outputs": []
        }, 
        {
            "source": "##### Extract column names from table", 
            "metadata": {}, 
            "cell_type": "markdown"
        }, 
        {
            "execution_count": 5, 
            "source": "rowl = []\ntablerows = soup.find_all(\"tr\")  \n\nrowh = soup.find_all(\"th\") \ncolnames=[]\nfor rh in rowh:\n    colnames.append(rh.string)\ncolnames  ", 
            "metadata": {}, 
            "cell_type": "code", 
            "outputs": [
                {
                    "execution_count": 5, 
                    "data": {
                        "text/plain": "['Postcode', 'Borough', 'Neighbourhood']"
                    }, 
                    "metadata": {}, 
                    "output_type": "execute_result"
                }
            ]
        }, 
        {
            "source": "##### Extract all rows and put in a python dataframe ", 
            "metadata": {}, 
            "cell_type": "markdown"
        }, 
        {
            "execution_count": 6, 
            "source": "rowr=soup.find_all(\"tr\")\nallrows=[]\nfor rr in rowr:\n    rd = rr.find_all(\"td\")\n    currow=[]\n    for rrd in rd:\n        currow.append(rrd.string) \n    allrows.append(currow)\n    \nalldf=pd.DataFrame(allrows, columns=colnames).iloc[1:,]\nalldf.head()", 
            "metadata": {}, 
            "cell_type": "code", 
            "outputs": [
                {
                    "execution_count": 6, 
                    "data": {
                        "text/html": "<div>\n<style scoped>\n    .dataframe tbody tr th:only-of-type {\n        vertical-align: middle;\n    }\n\n    .dataframe tbody tr th {\n        vertical-align: top;\n    }\n\n    .dataframe thead th {\n        text-align: right;\n    }\n</style>\n<table border=\"1\" class=\"dataframe\">\n  <thead>\n    <tr style=\"text-align: right;\">\n      <th></th>\n      <th>Postcode</th>\n      <th>Borough</th>\n      <th>Neighbourhood</th>\n    </tr>\n  </thead>\n  <tbody>\n    <tr>\n      <th>1</th>\n      <td>M1A</td>\n      <td>Not assigned</td>\n      <td>Not assigned</td>\n    </tr>\n    <tr>\n      <th>2</th>\n      <td>M2A</td>\n      <td>Not assigned</td>\n      <td>Not assigned</td>\n    </tr>\n    <tr>\n      <th>3</th>\n      <td>M3A</td>\n      <td>North York</td>\n      <td>Parkwoods</td>\n    </tr>\n    <tr>\n      <th>4</th>\n      <td>M4A</td>\n      <td>North York</td>\n      <td>Victoria Village</td>\n    </tr>\n    <tr>\n      <th>5</th>\n      <td>M5A</td>\n      <td>Downtown Toronto</td>\n      <td>Harbourfront</td>\n    </tr>\n  </tbody>\n</table>\n</div>", 
                        "text/plain": "  Postcode           Borough     Neighbourhood\n1      M1A      Not assigned      Not assigned\n2      M2A      Not assigned      Not assigned\n3      M3A        North York         Parkwoods\n4      M4A        North York  Victoria Village\n5      M5A  Downtown Toronto      Harbourfront"
                    }, 
                    "metadata": {}, 
                    "output_type": "execute_result"
                }
            ]
        }, 
        {
            "execution_count": 7, 
            "source": "print(\"Total number of scraped rows except header is: \", alldf.shape[0])", 
            "metadata": {}, 
            "cell_type": "code", 
            "outputs": [
                {
                    "name": "stdout", 
                    "output_type": "stream", 
                    "text": "Total number of scraped rows except header is:  289\n"
                }
            ]
        }, 
        {
            "source": "#####  Skip rows  with both \"Not Assigned\" Boroughs and Neighborhods and assign Neighborhood = Borough if Borough is known", 
            "metadata": {}, 
            "cell_type": "markdown"
        }, 
        {
            "execution_count": 8, 
            "source": "alldf = alldf[alldf[\"Borough\"] != \"Not assigned\"]\ndf1=alldf.loc[alldf.Neighbourhood == 'Not assigned']\nfor index, row in df1.iterrows():\n    alldf.Neighbourhood[index] = row.Borough", 
            "metadata": {}, 
            "cell_type": "code", 
            "outputs": []
        }, 
        {
            "source": "##### Combine rows with the same Borough into the same  row with Neighborhoods separated by comma", 
            "metadata": {}, 
            "cell_type": "markdown"
        }, 
        {
            "execution_count": 9, 
            "source": "##create Pivit table with columns equal to All found Neighbourhoods\nalldf[\"Val\"] = 1\ntab=pd.pivot_table(alldf, values=\"Val\", columns=\"Neighbourhood\", aggfunc=np.sum, index=[\"Postcode\",\"Borough\"])\ntab=tab.fillna(\"\")\ntab.columns    ", 
            "metadata": {}, 
            "cell_type": "code", 
            "outputs": [
                {
                    "execution_count": 9, 
                    "data": {
                        "text/plain": "Index([Adelaide, Agincourt, Agincourt North, Albion Gardens, Alderwood,\n       Bathurst Manor, Bathurst Quay, Bayview Village, Beaumond Heights,\n       Bedford Park,\n       ...\n       Willowdale South, Willowdale West, Wilson Heights, Woburn,\n       Woodbine Gardens, Woodbine Heights, York Mills, York Mills West,\n       York University, Yorkville],\n      dtype='object', name='Neighbourhood', length=210)"
                    }, 
                    "metadata": {}, 
                    "output_type": "execute_result"
                }
            ]
        }, 
        {
            "execution_count": 10, 
            "source": "### function to combine neigbourhoods into one line, separated by comma\ndef compress_neighbourhoods(itm):\n    str = \"\"\n    for key, value in itm:\n        if value == 1.0: \n            if str == \"\": str = (str + key)\n            else: str = str + \",\" + key\n    return str", 
            "metadata": {}, 
            "cell_type": "code", 
            "outputs": []
        }, 
        {
            "execution_count": 11, 
            "source": "### Produce target table with one row per Postcode and comma separated Neighbourhoods\nnr=tab.shape[0]\ndict = {}\nfor cur in range(nr):\n    dict[cur] = {\"Postcode\": tab.index[cur][0], \"Borough\": tab.index[cur][1], \"Neighbourhoods\": compress_neighbourhoods(tab.iloc[cur,].items())}\n\ntoronto_neighbourhoods=pd.DataFrame(dict).transpose().loc[:,[\"Postcode\",\"Borough\",\"Neighbourhoods\"]]\ntoronto_neighbourhoods.head(5)", 
            "metadata": {}, 
            "cell_type": "code", 
            "outputs": [
                {
                    "execution_count": 11, 
                    "data": {
                        "text/html": "<div>\n<style scoped>\n    .dataframe tbody tr th:only-of-type {\n        vertical-align: middle;\n    }\n\n    .dataframe tbody tr th {\n        vertical-align: top;\n    }\n\n    .dataframe thead th {\n        text-align: right;\n    }\n</style>\n<table border=\"1\" class=\"dataframe\">\n  <thead>\n    <tr style=\"text-align: right;\">\n      <th></th>\n      <th>Postcode</th>\n      <th>Borough</th>\n      <th>Neighbourhoods</th>\n    </tr>\n  </thead>\n  <tbody>\n    <tr>\n      <th>0</th>\n      <td>M1B</td>\n      <td>Scarborough</td>\n      <td>Malvern,Rouge</td>\n    </tr>\n    <tr>\n      <th>1</th>\n      <td>M1C</td>\n      <td>Scarborough</td>\n      <td>Highland Creek,Port Union,Rouge Hill</td>\n    </tr>\n    <tr>\n      <th>2</th>\n      <td>M1E</td>\n      <td>Scarborough</td>\n      <td>Guildwood,Morningside,West Hill</td>\n    </tr>\n    <tr>\n      <th>3</th>\n      <td>M1G</td>\n      <td>Scarborough</td>\n      <td>Woburn</td>\n    </tr>\n    <tr>\n      <th>4</th>\n      <td>M1H</td>\n      <td>Scarborough</td>\n      <td>Cedarbrae</td>\n    </tr>\n  </tbody>\n</table>\n</div>", 
                        "text/plain": "  Postcode      Borough                        Neighbourhoods\n0      M1B  Scarborough                         Malvern,Rouge\n1      M1C  Scarborough  Highland Creek,Port Union,Rouge Hill\n2      M1E  Scarborough       Guildwood,Morningside,West Hill\n3      M1G  Scarborough                                Woburn\n4      M1H  Scarborough                             Cedarbrae"
                    }, 
                    "metadata": {}, 
                    "output_type": "execute_result"
                }
            ]
        }, 
        {
            "execution_count": 12, 
            "source": "toronto_neighbourhoods.tail(5)", 
            "metadata": {}, 
            "cell_type": "code", 
            "outputs": [
                {
                    "execution_count": 12, 
                    "data": {
                        "text/html": "<div>\n<style scoped>\n    .dataframe tbody tr th:only-of-type {\n        vertical-align: middle;\n    }\n\n    .dataframe tbody tr th {\n        vertical-align: top;\n    }\n\n    .dataframe thead th {\n        text-align: right;\n    }\n</style>\n<table border=\"1\" class=\"dataframe\">\n  <thead>\n    <tr style=\"text-align: right;\">\n      <th></th>\n      <th>Postcode</th>\n      <th>Borough</th>\n      <th>Neighbourhoods</th>\n    </tr>\n  </thead>\n  <tbody>\n    <tr>\n      <th>98</th>\n      <td>M9N</td>\n      <td>York</td>\n      <td>Weston</td>\n    </tr>\n    <tr>\n      <th>99</th>\n      <td>M9P</td>\n      <td>Etobicoke</td>\n      <td>Westmount</td>\n    </tr>\n    <tr>\n      <th>100</th>\n      <td>M9R</td>\n      <td>Etobicoke</td>\n      <td>Kingsview Village,Martin Grove Gardens,Richvie...</td>\n    </tr>\n    <tr>\n      <th>101</th>\n      <td>M9V</td>\n      <td>Etobicoke</td>\n      <td>Albion Gardens,Beaumond Heights,Humbergate,Jam...</td>\n    </tr>\n    <tr>\n      <th>102</th>\n      <td>M9W</td>\n      <td>Etobicoke</td>\n      <td>Northwest</td>\n    </tr>\n  </tbody>\n</table>\n</div>", 
                        "text/plain": "    Postcode    Borough                                     Neighbourhoods\n98       M9N       York                                             Weston\n99       M9P  Etobicoke                                          Westmount\n100      M9R  Etobicoke  Kingsview Village,Martin Grove Gardens,Richvie...\n101      M9V  Etobicoke  Albion Gardens,Beaumond Heights,Humbergate,Jam...\n102      M9W  Etobicoke                                          Northwest"
                    }, 
                    "metadata": {}, 
                    "output_type": "execute_result"
                }
            ]
        }, 
        {
            "execution_count": 13, 
            "source": "print(\"Number of rows in the dataframe:\", toronto_neighbourhoods.shape[0])", 
            "metadata": {}, 
            "cell_type": "code", 
            "outputs": [
                {
                    "name": "stdout", 
                    "output_type": "stream", 
                    "text": "Number of rows in the dataframe: 103\n"
                }
            ]
        }
    ], 
    "nbformat": 4
}