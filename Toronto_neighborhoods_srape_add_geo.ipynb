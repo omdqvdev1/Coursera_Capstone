{
    "nbformat": 4, 
    "cells": [
        {
            "cell_type": "markdown", 
            "metadata": {
                "collapsed": true
            }, 
            "source": "# Clustering of Toronto neighborhoods"
        }, 
        {
            "cell_type": "code", 
            "metadata": {}, 
            "source": "import pandas as pd\nimport requests\nimport numpy as np\nfrom bs4 import BeautifulSoup", 
            "outputs": [], 
            "execution_count": 1
        }, 
        {
            "cell_type": "markdown", 
            "metadata": {}, 
            "source": "#### Load wikipedia page with postal codes of Toronto"
        }, 
        {
            "cell_type": "code", 
            "metadata": {}, 
            "source": "wikipedia_link=\"https://en.wikipedia.org/wiki/List_of_postal_codes_of_Canada:_M\"\n\nr = requests.get(wikipedia_link)\npage = r.text", 
            "outputs": [], 
            "execution_count": 2
        }, 
        {
            "cell_type": "markdown", 
            "metadata": {}, 
            "source": "#### Locate embedded table with postal codes, boroughs and and extract it"
        }, 
        {
            "cell_type": "code", 
            "metadata": {}, 
            "source": "pos1=page.find('<table class=\"wikitable sortable\">')\npos2=page.find(\"</table>\", pos1)\ntable_text = page[pos1:pos2+8]", 
            "outputs": [], 
            "execution_count": 3
        }, 
        {
            "cell_type": "code", 
            "metadata": {}, 
            "source": "table_text=table_text.replace(\"\\n\",\"\")\nsoup = BeautifulSoup(table_text,\"lxml\")", 
            "outputs": [], 
            "execution_count": 4
        }, 
        {
            "cell_type": "markdown", 
            "metadata": {}, 
            "source": "##### Extract column names from table"
        }, 
        {
            "cell_type": "code", 
            "metadata": {}, 
            "source": "rowl = []\ntablerows = soup.find_all(\"tr\")  \n\nrowh = soup.find_all(\"th\") \ncolnames=[]\nfor rh in rowh:\n    colnames.append(rh.string)\ncolnames  ", 
            "outputs": [
                {
                    "output_type": "execute_result", 
                    "metadata": {}, 
                    "execution_count": 5, 
                    "data": {
                        "text/plain": "['Postcode', 'Borough', 'Neighbourhood']"
                    }
                }
            ], 
            "execution_count": 5
        }, 
        {
            "cell_type": "markdown", 
            "metadata": {}, 
            "source": "##### Extract all rows and put in a python dataframe "
        }, 
        {
            "cell_type": "code", 
            "metadata": {}, 
            "source": "rowr=soup.find_all(\"tr\")\nallrows=[]\nfor rr in rowr:\n    rd = rr.find_all(\"td\")\n    currow=[]\n    for rrd in rd:\n        currow.append(rrd.string) \n    allrows.append(currow)\n    \nalldf=pd.DataFrame(allrows, columns=colnames).iloc[1:,]\nalldf.head()", 
            "outputs": [
                {
                    "output_type": "execute_result", 
                    "metadata": {}, 
                    "execution_count": 6, 
                    "data": {
                        "text/plain": "  Postcode           Borough     Neighbourhood\n1      M1A      Not assigned      Not assigned\n2      M2A      Not assigned      Not assigned\n3      M3A        North York         Parkwoods\n4      M4A        North York  Victoria Village\n5      M5A  Downtown Toronto      Harbourfront", 
                        "text/html": "<div>\n<style scoped>\n    .dataframe tbody tr th:only-of-type {\n        vertical-align: middle;\n    }\n\n    .dataframe tbody tr th {\n        vertical-align: top;\n    }\n\n    .dataframe thead th {\n        text-align: right;\n    }\n</style>\n<table border=\"1\" class=\"dataframe\">\n  <thead>\n    <tr style=\"text-align: right;\">\n      <th></th>\n      <th>Postcode</th>\n      <th>Borough</th>\n      <th>Neighbourhood</th>\n    </tr>\n  </thead>\n  <tbody>\n    <tr>\n      <th>1</th>\n      <td>M1A</td>\n      <td>Not assigned</td>\n      <td>Not assigned</td>\n    </tr>\n    <tr>\n      <th>2</th>\n      <td>M2A</td>\n      <td>Not assigned</td>\n      <td>Not assigned</td>\n    </tr>\n    <tr>\n      <th>3</th>\n      <td>M3A</td>\n      <td>North York</td>\n      <td>Parkwoods</td>\n    </tr>\n    <tr>\n      <th>4</th>\n      <td>M4A</td>\n      <td>North York</td>\n      <td>Victoria Village</td>\n    </tr>\n    <tr>\n      <th>5</th>\n      <td>M5A</td>\n      <td>Downtown Toronto</td>\n      <td>Harbourfront</td>\n    </tr>\n  </tbody>\n</table>\n</div>"
                    }
                }
            ], 
            "execution_count": 6
        }, 
        {
            "cell_type": "code", 
            "metadata": {}, 
            "source": "print(\"Total number of scraped rows except header is: \", alldf.shape[0])", 
            "outputs": [
                {
                    "text": "Total number of scraped rows except header is:  289\n", 
                    "output_type": "stream", 
                    "name": "stdout"
                }
            ], 
            "execution_count": 7
        }, 
        {
            "cell_type": "markdown", 
            "metadata": {}, 
            "source": "#####  Skip rows  with both \"Not Assigned\" Boroughs and Neighborhods and assign Neighborhood = Borough if Borough is known"
        }, 
        {
            "cell_type": "code", 
            "metadata": {}, 
            "source": "alldf = alldf[alldf[\"Borough\"] != \"Not assigned\"]\ndf1=alldf.loc[alldf.Neighbourhood == 'Not assigned']\nfor index, row in df1.iterrows():\n    alldf.Neighbourhood[index] = row.Borough", 
            "outputs": [], 
            "execution_count": 8
        }, 
        {
            "cell_type": "markdown", 
            "metadata": {}, 
            "source": "##### Combine rows with the same Borough into the same  row with Neighborhoods separated by comma"
        }, 
        {
            "cell_type": "code", 
            "metadata": {}, 
            "source": "##create Pivit table with columns equal to All found Neighbourhoods\nalldf[\"Val\"] = 1\ntab=pd.pivot_table(alldf, values=\"Val\", columns=\"Neighbourhood\", aggfunc=np.sum, index=[\"Postcode\",\"Borough\"])\ntab=tab.fillna(\"\")\ntab.columns    ", 
            "outputs": [
                {
                    "output_type": "execute_result", 
                    "metadata": {}, 
                    "execution_count": 9, 
                    "data": {
                        "text/plain": "Index([Adelaide, Agincourt, Agincourt North, Albion Gardens, Alderwood,\n       Bathurst Manor, Bathurst Quay, Bayview Village, Beaumond Heights,\n       Bedford Park,\n       ...\n       Willowdale South, Willowdale West, Wilson Heights, Woburn,\n       Woodbine Gardens, Woodbine Heights, York Mills, York Mills West,\n       York University, Yorkville],\n      dtype='object', name='Neighbourhood', length=210)"
                    }
                }
            ], 
            "execution_count": 9
        }, 
        {
            "cell_type": "code", 
            "metadata": {}, 
            "source": "### function to combine neigbourhoods into one line, separated by comma\ndef compress_neighbourhoods(itm):\n    str = \"\"\n    for key, value in itm:\n        if value == 1.0: \n            if str == \"\": str = (str + key)\n            else: str = str + \",\" + key\n    return str", 
            "outputs": [], 
            "execution_count": 10
        }, 
        {
            "cell_type": "code", 
            "metadata": {}, 
            "source": "### Produce target table with one row per Postcode and comma separated Neighbourhoods\nnr=tab.shape[0]\ndict = {}\nfor cur in range(nr):\n    dict[cur] = {\"Postcode\": tab.index[cur][0], \"Borough\": tab.index[cur][1], \"Neighbourhoods\": compress_neighbourhoods(tab.iloc[cur,].items())}\n\ntoronto_neighbourhoods=pd.DataFrame(dict).transpose().loc[:,[\"Postcode\",\"Borough\",\"Neighbourhoods\"]]\ntoronto_neighbourhoods.head(5)", 
            "outputs": [
                {
                    "output_type": "execute_result", 
                    "metadata": {}, 
                    "execution_count": 11, 
                    "data": {
                        "text/plain": "  Postcode      Borough                        Neighbourhoods\n0      M1B  Scarborough                         Malvern,Rouge\n1      M1C  Scarborough  Highland Creek,Port Union,Rouge Hill\n2      M1E  Scarborough       Guildwood,Morningside,West Hill\n3      M1G  Scarborough                                Woburn\n4      M1H  Scarborough                             Cedarbrae", 
                        "text/html": "<div>\n<style scoped>\n    .dataframe tbody tr th:only-of-type {\n        vertical-align: middle;\n    }\n\n    .dataframe tbody tr th {\n        vertical-align: top;\n    }\n\n    .dataframe thead th {\n        text-align: right;\n    }\n</style>\n<table border=\"1\" class=\"dataframe\">\n  <thead>\n    <tr style=\"text-align: right;\">\n      <th></th>\n      <th>Postcode</th>\n      <th>Borough</th>\n      <th>Neighbourhoods</th>\n    </tr>\n  </thead>\n  <tbody>\n    <tr>\n      <th>0</th>\n      <td>M1B</td>\n      <td>Scarborough</td>\n      <td>Malvern,Rouge</td>\n    </tr>\n    <tr>\n      <th>1</th>\n      <td>M1C</td>\n      <td>Scarborough</td>\n      <td>Highland Creek,Port Union,Rouge Hill</td>\n    </tr>\n    <tr>\n      <th>2</th>\n      <td>M1E</td>\n      <td>Scarborough</td>\n      <td>Guildwood,Morningside,West Hill</td>\n    </tr>\n    <tr>\n      <th>3</th>\n      <td>M1G</td>\n      <td>Scarborough</td>\n      <td>Woburn</td>\n    </tr>\n    <tr>\n      <th>4</th>\n      <td>M1H</td>\n      <td>Scarborough</td>\n      <td>Cedarbrae</td>\n    </tr>\n  </tbody>\n</table>\n</div>"
                    }
                }
            ], 
            "execution_count": 11
        }, 
        {
            "cell_type": "code", 
            "metadata": {}, 
            "source": "toronto_neighbourhoods.tail(5)", 
            "outputs": [
                {
                    "output_type": "execute_result", 
                    "metadata": {}, 
                    "execution_count": 12, 
                    "data": {
                        "text/plain": "    Postcode    Borough                                     Neighbourhoods\n98       M9N       York                                             Weston\n99       M9P  Etobicoke                                          Westmount\n100      M9R  Etobicoke  Kingsview Village,Martin Grove Gardens,Richvie...\n101      M9V  Etobicoke  Albion Gardens,Beaumond Heights,Humbergate,Jam...\n102      M9W  Etobicoke                                          Northwest", 
                        "text/html": "<div>\n<style scoped>\n    .dataframe tbody tr th:only-of-type {\n        vertical-align: middle;\n    }\n\n    .dataframe tbody tr th {\n        vertical-align: top;\n    }\n\n    .dataframe thead th {\n        text-align: right;\n    }\n</style>\n<table border=\"1\" class=\"dataframe\">\n  <thead>\n    <tr style=\"text-align: right;\">\n      <th></th>\n      <th>Postcode</th>\n      <th>Borough</th>\n      <th>Neighbourhoods</th>\n    </tr>\n  </thead>\n  <tbody>\n    <tr>\n      <th>98</th>\n      <td>M9N</td>\n      <td>York</td>\n      <td>Weston</td>\n    </tr>\n    <tr>\n      <th>99</th>\n      <td>M9P</td>\n      <td>Etobicoke</td>\n      <td>Westmount</td>\n    </tr>\n    <tr>\n      <th>100</th>\n      <td>M9R</td>\n      <td>Etobicoke</td>\n      <td>Kingsview Village,Martin Grove Gardens,Richvie...</td>\n    </tr>\n    <tr>\n      <th>101</th>\n      <td>M9V</td>\n      <td>Etobicoke</td>\n      <td>Albion Gardens,Beaumond Heights,Humbergate,Jam...</td>\n    </tr>\n    <tr>\n      <th>102</th>\n      <td>M9W</td>\n      <td>Etobicoke</td>\n      <td>Northwest</td>\n    </tr>\n  </tbody>\n</table>\n</div>"
                    }
                }
            ], 
            "execution_count": 12
        }, 
        {
            "cell_type": "code", 
            "metadata": {}, 
            "source": "print(\"Number of rows in the dataframe:\", toronto_neighbourhoods.shape[0])", 
            "outputs": [
                {
                    "text": "Number of rows in the dataframe: 103\n", 
                    "output_type": "stream", 
                    "name": "stdout"
                }
            ], 
            "execution_count": 13
        }, 
        {
            "cell_type": "markdown", 
            "metadata": {}, 
            "source": "### Add Geolocation coordinates to Postal Codes"
        }, 
        {
            "cell_type": "code", 
            "metadata": {}, 
            "source": "!conda install -c conda-forge geocoder --yes\nimport geocoder", 
            "outputs": [
                {
                    "text": "Fetching package metadata .............\nSolving package specifications: .\n\n# All requested packages already installed.\n# packages in environment at /opt/conda/envs/DSX-Python35:\n#\ngeocoder                  1.38.1                     py_0    conda-forge\n", 
                    "output_type": "stream", 
                    "name": "stdout"
                }
            ], 
            "execution_count": 14
        }, 
        {
            "cell_type": "code", 
            "metadata": {}, 
            "source": "#Load provided file with geo coordinates, as the provided method of finding coordinates through geocoder seems to be problematic\n!wget -q -O \"ontario_postalcode_coord.csv\" http://cocl.us/Geospatial_data\ngeodata = pd.read_csv(\"ontario_postalcode_coord.xls\")\ngeodata.columns=[\"Postcode\", \"Latitude\", \"Longtitude\"]\ngeodata.head()    ", 
            "outputs": [
                {
                    "output_type": "execute_result", 
                    "metadata": {}, 
                    "execution_count": 15, 
                    "data": {
                        "text/plain": "  Postcode   Latitude  Longtitude\n0      M1B  43.806686  -79.194353\n1      M1C  43.784535  -79.160497\n2      M1E  43.763573  -79.188711\n3      M1G  43.770992  -79.216917\n4      M1H  43.773136  -79.239476", 
                        "text/html": "<div>\n<style scoped>\n    .dataframe tbody tr th:only-of-type {\n        vertical-align: middle;\n    }\n\n    .dataframe tbody tr th {\n        vertical-align: top;\n    }\n\n    .dataframe thead th {\n        text-align: right;\n    }\n</style>\n<table border=\"1\" class=\"dataframe\">\n  <thead>\n    <tr style=\"text-align: right;\">\n      <th></th>\n      <th>Postcode</th>\n      <th>Latitude</th>\n      <th>Longtitude</th>\n    </tr>\n  </thead>\n  <tbody>\n    <tr>\n      <th>0</th>\n      <td>M1B</td>\n      <td>43.806686</td>\n      <td>-79.194353</td>\n    </tr>\n    <tr>\n      <th>1</th>\n      <td>M1C</td>\n      <td>43.784535</td>\n      <td>-79.160497</td>\n    </tr>\n    <tr>\n      <th>2</th>\n      <td>M1E</td>\n      <td>43.763573</td>\n      <td>-79.188711</td>\n    </tr>\n    <tr>\n      <th>3</th>\n      <td>M1G</td>\n      <td>43.770992</td>\n      <td>-79.216917</td>\n    </tr>\n    <tr>\n      <th>4</th>\n      <td>M1H</td>\n      <td>43.773136</td>\n      <td>-79.239476</td>\n    </tr>\n  </tbody>\n</table>\n</div>"
                    }
                }
            ], 
            "execution_count": 15
        }, 
        {
            "cell_type": "code", 
            "metadata": {}, 
            "source": "print(\"Number of rows in geodata dataframe:\", geodata.shape[0])", 
            "outputs": [
                {
                    "text": "Number of rows in geodata dataframe: 103\n", 
                    "output_type": "stream", 
                    "name": "stdout"
                }
            ], 
            "execution_count": 16
        }, 
        {
            "cell_type": "markdown", 
            "metadata": {}, 
            "source": "#### Resulting table of neighbourhoods with geolocations"
        }, 
        {
            "cell_type": "code", 
            "metadata": {}, 
            "source": "toronto_neighbourhoods=pd.merge(toronto_neighbourhoods, geodata, how='left', on=\"Postcode\", left_on=None, right_on=None,\n         left_index=False, right_index=False, sort=True,\n         suffixes=('_x', '_y'), copy=True, indicator=False,\n         validate=None)\n\ntoronto_neighbourhoods.head()", 
            "outputs": [
                {
                    "output_type": "execute_result", 
                    "metadata": {}, 
                    "execution_count": 17, 
                    "data": {
                        "text/plain": "  Postcode      Borough                        Neighbourhoods   Latitude  \\\n0      M1B  Scarborough                         Malvern,Rouge  43.806686   \n1      M1C  Scarborough  Highland Creek,Port Union,Rouge Hill  43.784535   \n2      M1E  Scarborough       Guildwood,Morningside,West Hill  43.763573   \n3      M1G  Scarborough                                Woburn  43.770992   \n4      M1H  Scarborough                             Cedarbrae  43.773136   \n\n   Longtitude  \n0  -79.194353  \n1  -79.160497  \n2  -79.188711  \n3  -79.216917  \n4  -79.239476  ", 
                        "text/html": "<div>\n<style scoped>\n    .dataframe tbody tr th:only-of-type {\n        vertical-align: middle;\n    }\n\n    .dataframe tbody tr th {\n        vertical-align: top;\n    }\n\n    .dataframe thead th {\n        text-align: right;\n    }\n</style>\n<table border=\"1\" class=\"dataframe\">\n  <thead>\n    <tr style=\"text-align: right;\">\n      <th></th>\n      <th>Postcode</th>\n      <th>Borough</th>\n      <th>Neighbourhoods</th>\n      <th>Latitude</th>\n      <th>Longtitude</th>\n    </tr>\n  </thead>\n  <tbody>\n    <tr>\n      <th>0</th>\n      <td>M1B</td>\n      <td>Scarborough</td>\n      <td>Malvern,Rouge</td>\n      <td>43.806686</td>\n      <td>-79.194353</td>\n    </tr>\n    <tr>\n      <th>1</th>\n      <td>M1C</td>\n      <td>Scarborough</td>\n      <td>Highland Creek,Port Union,Rouge Hill</td>\n      <td>43.784535</td>\n      <td>-79.160497</td>\n    </tr>\n    <tr>\n      <th>2</th>\n      <td>M1E</td>\n      <td>Scarborough</td>\n      <td>Guildwood,Morningside,West Hill</td>\n      <td>43.763573</td>\n      <td>-79.188711</td>\n    </tr>\n    <tr>\n      <th>3</th>\n      <td>M1G</td>\n      <td>Scarborough</td>\n      <td>Woburn</td>\n      <td>43.770992</td>\n      <td>-79.216917</td>\n    </tr>\n    <tr>\n      <th>4</th>\n      <td>M1H</td>\n      <td>Scarborough</td>\n      <td>Cedarbrae</td>\n      <td>43.773136</td>\n      <td>-79.239476</td>\n    </tr>\n  </tbody>\n</table>\n</div>"
                    }
                }
            ], 
            "execution_count": 17
        }, 
        {
            "cell_type": "code", 
            "metadata": {}, 
            "source": "pd.set_option('display.max_colwidth', -1)\ntoronto_neighbourhoods.loc[toronto_neighbourhoods['Postcode'].isin(['M5G','M2H','M4B','M1J','M4G','M4M','M1R','M9V','M9L','M5V','M1B','M5A'])]", 
            "outputs": [
                {
                    "output_type": "execute_result", 
                    "metadata": {}, 
                    "execution_count": 18, 
                    "data": {
                        "text/plain": "    Postcode           Borough  \\\n0    M1B      Scarborough        \n5    M1J      Scarborough        \n11   M1R      Scarborough        \n17   M2H      North York         \n35   M4B      East York          \n38   M4G      East York          \n43   M4M      East Toronto       \n53   M5A      Downtown Toronto   \n57   M5G      Downtown Toronto   \n68   M5V      Downtown Toronto   \n96   M9L      North York         \n101  M9V      Etobicoke          \n\n                                                                                             Neighbourhoods  \\\n0    Malvern,Rouge                                                                                            \n5    Scarborough Village                                                                                      \n11   Maryvale,Wexford                                                                                         \n17   Hillcrest Village                                                                                        \n35   Parkview Hill,Woodbine Gardens                                                                           \n38   Leaside                                                                                                  \n43   Studio District                                                                                          \n53   Harbourfront,Regent Park                                                                                 \n57   Central Bay Street                                                                                       \n68   Bathurst Quay,CN Tower,Harbourfront West,Island airport,King and Spadina,Railway Lands,South Niagara     \n96   Humber Summit                                                                                            \n101  Albion Gardens,Beaumond Heights,Humbergate,Jamestown,Mount Olive,Silverstone,South Steeles,Thistletown   \n\n      Latitude  Longtitude  \n0    43.806686 -79.194353   \n5    43.744734 -79.239476   \n11   43.750072 -79.295849   \n17   43.803762 -79.363452   \n35   43.706397 -79.309937   \n38   43.709060 -79.363452   \n43   43.659526 -79.340923   \n53   43.654260 -79.360636   \n57   43.657952 -79.387383   \n68   43.628947 -79.394420   \n96   43.756303 -79.565963   \n101  43.739416 -79.588437   ", 
                        "text/html": "<div>\n<style scoped>\n    .dataframe tbody tr th:only-of-type {\n        vertical-align: middle;\n    }\n\n    .dataframe tbody tr th {\n        vertical-align: top;\n    }\n\n    .dataframe thead th {\n        text-align: right;\n    }\n</style>\n<table border=\"1\" class=\"dataframe\">\n  <thead>\n    <tr style=\"text-align: right;\">\n      <th></th>\n      <th>Postcode</th>\n      <th>Borough</th>\n      <th>Neighbourhoods</th>\n      <th>Latitude</th>\n      <th>Longtitude</th>\n    </tr>\n  </thead>\n  <tbody>\n    <tr>\n      <th>0</th>\n      <td>M1B</td>\n      <td>Scarborough</td>\n      <td>Malvern,Rouge</td>\n      <td>43.806686</td>\n      <td>-79.194353</td>\n    </tr>\n    <tr>\n      <th>5</th>\n      <td>M1J</td>\n      <td>Scarborough</td>\n      <td>Scarborough Village</td>\n      <td>43.744734</td>\n      <td>-79.239476</td>\n    </tr>\n    <tr>\n      <th>11</th>\n      <td>M1R</td>\n      <td>Scarborough</td>\n      <td>Maryvale,Wexford</td>\n      <td>43.750072</td>\n      <td>-79.295849</td>\n    </tr>\n    <tr>\n      <th>17</th>\n      <td>M2H</td>\n      <td>North York</td>\n      <td>Hillcrest Village</td>\n      <td>43.803762</td>\n      <td>-79.363452</td>\n    </tr>\n    <tr>\n      <th>35</th>\n      <td>M4B</td>\n      <td>East York</td>\n      <td>Parkview Hill,Woodbine Gardens</td>\n      <td>43.706397</td>\n      <td>-79.309937</td>\n    </tr>\n    <tr>\n      <th>38</th>\n      <td>M4G</td>\n      <td>East York</td>\n      <td>Leaside</td>\n      <td>43.709060</td>\n      <td>-79.363452</td>\n    </tr>\n    <tr>\n      <th>43</th>\n      <td>M4M</td>\n      <td>East Toronto</td>\n      <td>Studio District</td>\n      <td>43.659526</td>\n      <td>-79.340923</td>\n    </tr>\n    <tr>\n      <th>53</th>\n      <td>M5A</td>\n      <td>Downtown Toronto</td>\n      <td>Harbourfront,Regent Park</td>\n      <td>43.654260</td>\n      <td>-79.360636</td>\n    </tr>\n    <tr>\n      <th>57</th>\n      <td>M5G</td>\n      <td>Downtown Toronto</td>\n      <td>Central Bay Street</td>\n      <td>43.657952</td>\n      <td>-79.387383</td>\n    </tr>\n    <tr>\n      <th>68</th>\n      <td>M5V</td>\n      <td>Downtown Toronto</td>\n      <td>Bathurst Quay,CN Tower,Harbourfront West,Island airport,King and Spadina,Railway Lands,South Niagara</td>\n      <td>43.628947</td>\n      <td>-79.394420</td>\n    </tr>\n    <tr>\n      <th>96</th>\n      <td>M9L</td>\n      <td>North York</td>\n      <td>Humber Summit</td>\n      <td>43.756303</td>\n      <td>-79.565963</td>\n    </tr>\n    <tr>\n      <th>101</th>\n      <td>M9V</td>\n      <td>Etobicoke</td>\n      <td>Albion Gardens,Beaumond Heights,Humbergate,Jamestown,Mount Olive,Silverstone,South Steeles,Thistletown</td>\n      <td>43.739416</td>\n      <td>-79.588437</td>\n    </tr>\n  </tbody>\n</table>\n</div>"
                    }
                }
            ], 
            "execution_count": 18
        }
    ], 
    "metadata": {
        "kernelspec": {
            "display_name": "Python 3.5", 
            "name": "python3", 
            "language": "python"
        }, 
        "language_info": {
            "version": "3.5.5", 
            "nbconvert_exporter": "python", 
            "codemirror_mode": {
                "version": 3, 
                "name": "ipython"
            }, 
            "mimetype": "text/x-python", 
            "file_extension": ".py", 
            "name": "python", 
            "pygments_lexer": "ipython3"
        }
    }, 
    "nbformat_minor": 1
}